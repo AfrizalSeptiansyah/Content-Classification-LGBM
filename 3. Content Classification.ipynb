{
 "cells": [
  {
   "cell_type": "markdown",
   "id": "private-restaurant",
   "metadata": {},
   "source": [
    "# Content Classification with LGBM"
   ]
  },
  {
   "cell_type": "markdown",
   "id": "foreign-bishop",
   "metadata": {},
   "source": [
    "## Import Library"
   ]
  },
  {
   "cell_type": "code",
   "execution_count": 1,
   "id": "liked-zoning",
   "metadata": {},
   "outputs": [],
   "source": [
    "import numpy as np\n",
    "import pandas as pd\n",
    "import matplotlib.pyplot as plt\n",
    "import seaborn as sns\n",
    "sns.set()\n",
    "from warnings import filterwarnings\n",
    "filterwarnings('ignore')\n",
    "\n",
    "from sklearn.model_selection import train_test_split\n",
    "from sklearn.pipeline import Pipeline\n",
    "from sklearn.compose import ColumnTransformer\n",
    "\n",
    "from jcopml.utils import save_model, load_model"
   ]
  },
  {
   "cell_type": "markdown",
   "id": "radical-costs",
   "metadata": {},
   "source": [
    "## Load Data"
   ]
  },
  {
   "cell_type": "code",
   "execution_count": 2,
   "id": "alternate-boring",
   "metadata": {},
   "outputs": [
    {
     "data": {
      "text/html": [
       "<div>\n",
       "<style scoped>\n",
       "    .dataframe tbody tr th:only-of-type {\n",
       "        vertical-align: middle;\n",
       "    }\n",
       "\n",
       "    .dataframe tbody tr th {\n",
       "        vertical-align: top;\n",
       "    }\n",
       "\n",
       "    .dataframe thead th {\n",
       "        text-align: right;\n",
       "    }\n",
       "</style>\n",
       "<table border=\"1\" class=\"dataframe\">\n",
       "  <thead>\n",
       "    <tr style=\"text-align: right;\">\n",
       "      <th></th>\n",
       "      <th>content</th>\n",
       "      <th>label</th>\n",
       "    </tr>\n",
       "  </thead>\n",
       "  <tbody>\n",
       "    <tr>\n",
       "      <th>0</th>\n",
       "      <td>Liputan6.com, London - Lee Dixon khawatir Arse...</td>\n",
       "      <td>bola</td>\n",
       "    </tr>\n",
       "    <tr>\n",
       "      <th>1</th>\n",
       "      <td>Liputan6.com, Jakarta - Kasus dugaan penganiay...</td>\n",
       "      <td>news</td>\n",
       "    </tr>\n",
       "    <tr>\n",
       "      <th>2</th>\n",
       "      <td>Liputan6.com, Jakarta Menanggapi aksi eks peke...</td>\n",
       "      <td>bisnis</td>\n",
       "    </tr>\n",
       "    <tr>\n",
       "      <th>3</th>\n",
       "      <td>Liputan6.com, Medan - Sebanyak 81 kendaraan 4x...</td>\n",
       "      <td>bola</td>\n",
       "    </tr>\n",
       "    <tr>\n",
       "      <th>4</th>\n",
       "      <td>Liputan6.com, Jakarta Indonesia akan melawan T...</td>\n",
       "      <td>bola</td>\n",
       "    </tr>\n",
       "  </tbody>\n",
       "</table>\n",
       "</div>"
      ],
      "text/plain": [
       "                                             content   label\n",
       "0  Liputan6.com, London - Lee Dixon khawatir Arse...    bola\n",
       "1  Liputan6.com, Jakarta - Kasus dugaan penganiay...    news\n",
       "2  Liputan6.com, Jakarta Menanggapi aksi eks peke...  bisnis\n",
       "3  Liputan6.com, Medan - Sebanyak 81 kendaraan 4x...    bola\n",
       "4  Liputan6.com, Jakarta Indonesia akan melawan T...    bola"
      ]
     },
     "execution_count": 2,
     "metadata": {},
     "output_type": "execute_result"
    }
   ],
   "source": [
    "df_train = pd.read_csv(\"data/train.csv\")\n",
    "df_train.head()"
   ]
  },
  {
   "cell_type": "code",
   "execution_count": 3,
   "id": "tribal-korea",
   "metadata": {},
   "outputs": [
    {
     "data": {
      "text/html": [
       "<div>\n",
       "<style scoped>\n",
       "    .dataframe tbody tr th:only-of-type {\n",
       "        vertical-align: middle;\n",
       "    }\n",
       "\n",
       "    .dataframe tbody tr th {\n",
       "        vertical-align: top;\n",
       "    }\n",
       "\n",
       "    .dataframe thead th {\n",
       "        text-align: right;\n",
       "    }\n",
       "</style>\n",
       "<table border=\"1\" class=\"dataframe\">\n",
       "  <thead>\n",
       "    <tr style=\"text-align: right;\">\n",
       "      <th></th>\n",
       "      <th>content</th>\n",
       "      <th>label</th>\n",
       "    </tr>\n",
       "  </thead>\n",
       "  <tbody>\n",
       "    <tr>\n",
       "      <th>0</th>\n",
       "      <td>Liputan6.com, Bandung Persib Bandung akan menj...</td>\n",
       "      <td>bola</td>\n",
       "    </tr>\n",
       "    <tr>\n",
       "      <th>1</th>\n",
       "      <td>Liputan6.com, Jakarta - Mantan Ketua Mahkamah ...</td>\n",
       "      <td>news</td>\n",
       "    </tr>\n",
       "    <tr>\n",
       "      <th>2</th>\n",
       "      <td>Liputan6.com, Cardiff - Tragedi yang menimpa E...</td>\n",
       "      <td>bola</td>\n",
       "    </tr>\n",
       "    <tr>\n",
       "      <th>3</th>\n",
       "      <td>Liputan6.com, Jakarta - Kementerian Kelautan d...</td>\n",
       "      <td>bisnis</td>\n",
       "    </tr>\n",
       "    <tr>\n",
       "      <th>4</th>\n",
       "      <td>Liputan6.com, Jakarta - PT Pertamina (Persero)...</td>\n",
       "      <td>bisnis</td>\n",
       "    </tr>\n",
       "  </tbody>\n",
       "</table>\n",
       "</div>"
      ],
      "text/plain": [
       "                                             content   label\n",
       "0  Liputan6.com, Bandung Persib Bandung akan menj...    bola\n",
       "1  Liputan6.com, Jakarta - Mantan Ketua Mahkamah ...    news\n",
       "2  Liputan6.com, Cardiff - Tragedi yang menimpa E...    bola\n",
       "3  Liputan6.com, Jakarta - Kementerian Kelautan d...  bisnis\n",
       "4  Liputan6.com, Jakarta - PT Pertamina (Persero)...  bisnis"
      ]
     },
     "execution_count": 3,
     "metadata": {},
     "output_type": "execute_result"
    }
   ],
   "source": [
    "df_test = pd.read_csv(\"data/test.csv\")\n",
    "df_test.head()"
   ]
  },
  {
   "cell_type": "code",
   "execution_count": 4,
   "id": "twenty-bryan",
   "metadata": {},
   "outputs": [
    {
     "data": {
      "text/plain": [
       "((6127, 2), (2627, 2))"
      ]
     },
     "execution_count": 4,
     "metadata": {},
     "output_type": "execute_result"
    }
   ],
   "source": [
    "df_train.shape, df_test.shape"
   ]
  },
  {
   "cell_type": "markdown",
   "id": "offensive-insulin",
   "metadata": {},
   "source": [
    "Data train memiliki 6127 baris dan 2 kolom. Data test memiliki 2627 baris dan 2 kolom."
   ]
  },
  {
   "cell_type": "code",
   "execution_count": 5,
   "id": "caring-removal",
   "metadata": {},
   "outputs": [
    {
     "data": {
      "text/plain": [
       "content    object\n",
       "label      object\n",
       "dtype: object"
      ]
     },
     "execution_count": 5,
     "metadata": {},
     "output_type": "execute_result"
    }
   ],
   "source": [
    "df_train.dtypes"
   ]
  },
  {
   "cell_type": "code",
   "execution_count": 6,
   "id": "rapid-manitoba",
   "metadata": {},
   "outputs": [
    {
     "data": {
      "text/plain": [
       "content    object\n",
       "label      object\n",
       "dtype: object"
      ]
     },
     "execution_count": 6,
     "metadata": {},
     "output_type": "execute_result"
    }
   ],
   "source": [
    "df_test.dtypes"
   ]
  },
  {
   "cell_type": "markdown",
   "id": "instructional-blackjack",
   "metadata": {},
   "source": [
    "Baik train dan test tipe data telah sesuai."
   ]
  },
  {
   "cell_type": "code",
   "execution_count": 7,
   "id": "organizational-metropolitan",
   "metadata": {},
   "outputs": [
    {
     "data": {
      "text/plain": [
       "content    0\n",
       "label      0\n",
       "dtype: int64"
      ]
     },
     "execution_count": 7,
     "metadata": {},
     "output_type": "execute_result"
    }
   ],
   "source": [
    "df_train.isna().sum()"
   ]
  },
  {
   "cell_type": "code",
   "execution_count": 8,
   "id": "banner-commission",
   "metadata": {},
   "outputs": [
    {
     "data": {
      "text/plain": [
       "content    0\n",
       "label      0\n",
       "dtype: int64"
      ]
     },
     "execution_count": 8,
     "metadata": {},
     "output_type": "execute_result"
    }
   ],
   "source": [
    "df_test.isna().sum()"
   ]
  },
  {
   "cell_type": "markdown",
   "id": "forbidden-assignment",
   "metadata": {},
   "source": [
    "Data telah bersih."
   ]
  },
  {
   "cell_type": "code",
   "execution_count": 9,
   "id": "southeast-plain",
   "metadata": {},
   "outputs": [
    {
     "data": {
      "image/png": "[encoded data removed]",
      "text/plain": [
       "<Figure size 432x288 with 1 Axes>"
      ]
     },
     "metadata": {
      "needs_background": "light"
     },
     "output_type": "display_data"
    }
   ],
   "source": [
    "sns.countplot(df_train.label);"
   ]
  },
  {
   "cell_type": "code",
   "execution_count": 10,
   "id": "tracked-terminology",
   "metadata": {},
   "outputs": [
    {
     "data": {
      "image/png": "[encoded data removed]",
      "text/plain": [
       "<Figure size 432x288 with 1 Axes>"
      ]
     },
     "metadata": {
      "needs_background": "light"
     },
     "output_type": "display_data"
    }
   ],
   "source": [
    "sns.countplot(df_test.label);"
   ]
  },
  {
   "cell_type": "markdown",
   "id": "incomplete-exemption",
   "metadata": {},
   "source": [
    "Data tidak balanbed."
   ]
  },
  {
   "cell_type": "code",
   "execution_count": 11,
   "id": "cleared-fifty",
   "metadata": {},
   "outputs": [
    {
     "data": {
      "text/plain": [
       "'Liputan6.com, London - Lee Dixon khawatir Arsenal tak bisa merekrut Denis Suarez secara permanen musim panas nanti. Pasalnya sejauh ini, Suarez hanya menjadi cadangan bagi The Gunners.\\n\\nSuarez dipinjam Arsenal dari Barcelona, Januari lalu. The Gunners juga bisa membelinya pada akhir musim nanti jika permainannya memuaskan.\\n\\nNamun sejauh ini Suarez tak menjadi pilihan utama di Arsenal. Manajer Unai Emery baru memberinya kesempatan bermain selama 85 menit.\\n\\n\"Emery mungkin tahu kualitas Suarez. Dia tahu Suarez pemain yang dibutuhkannya,\" kata Dixon seperti dilansir Evening Standard.\\n\\n\"Namun dari sudut pandang Suarez, dia pasti berpikir untuk apa pindah kalau tidak bermain. Jadi mungkin saja dia akan menolak Arsenal,\" katanya menambahkan.'"
      ]
     },
     "execution_count": 11,
     "metadata": {},
     "output_type": "execute_result"
    }
   ],
   "source": [
    "df_train.content[0]"
   ]
  },
  {
   "cell_type": "code",
   "execution_count": 12,
   "id": "single-liverpool",
   "metadata": {},
   "outputs": [
    {
     "data": {
      "text/plain": [
       "'Jakarta Liga Champions 2018-2019 memasuki putaran 16 besar pada Selasa (12/2/2019) waktu setempat. Hasil mengejutkan terjadi setelah Manchester United menyerah dari Paris Saint-Germain.\\n\\nTidak tanggung-tanggung, Manchester United takluk dua gol tanpa balas saat menjamu Paris Saint-Germain. Padahal, Setan Merah lebih diunggulkan karena sedang dalam performa apik dan sang lawan juga tampil tanpa dua pemain terbaiknya, Neymar serta Edinson Cavani.\\n\\nMeski demikian, Angel di Maria menjadi aktor utama kemenangan Paris Saint-Germain. Mantan pemain Manchester United itu melepaskan dua umpan berujung gol kemenangan timnya yang dicetak Presnel Kimpembe dan Kylian Mbappe.\\n\\nHasil ini sangat menguntungkan Paris Saint-Germain untuk lolos ke perempat final. Sebab, pasukan Thomas Tuchel itu akan gantian menjamu Manchester United di Parc des Princes, Paris, 5 Maret mendatang.\\n\\nSementara itu pada laga lain, AS Roma membungkus kemenangan 2-1 atas FC Porto di Stadion Olimpico, Roma. Dua gol kemenangan I Lupi dicetak pemain muda, Nicolo Zaniolo. Adapun satu-satunya gol FC Porto dilesakkan Adrian Lopez.\\n\\nMeski kalah, FC Porto masih memiliki peluang untuk lolos ke perempat final Liga Champions lebih besar ketimbang Manchester United. Kini, FC Porto hanya butuh kemenangan 1-0 saat gantian menjamu AS Roma di Stadion Do Dragao, Porto, 5 Maret 2019.'"
      ]
     },
     "execution_count": 12,
     "metadata": {},
     "output_type": "execute_result"
    }
   ],
   "source": [
    "df_train.content[312]"
   ]
  },
  {
   "cell_type": "markdown",
   "id": "approved-affair",
   "metadata": {},
   "source": [
    "## Cleaning"
   ]
  },
  {
   "cell_type": "code",
   "execution_count": 13,
   "id": "quarterly-monaco",
   "metadata": {},
   "outputs": [],
   "source": [
    "from nltk.tokenize import word_tokenize\n",
    "from nltk.corpus import stopwords\n",
    "import re\n",
    "from string import punctuation\n",
    "from sklearn.feature_extraction.text import TfidfVectorizer, CountVectorizer"
   ]
  },
  {
   "cell_type": "code",
   "execution_count": 14,
   "id": "other-cylinder",
   "metadata": {},
   "outputs": [],
   "source": [
    "stopwords = []\n",
    "f = open('data/stopwords.txt', 'r')\n",
    "for i in f.readlines():\n",
    "    stopwords.append(i.replace('\\n', ''))\n",
    "sw_indo = stopwords + list(punctuation)"
   ]
  },
  {
   "cell_type": "code",
   "execution_count": 15,
   "id": "above-given",
   "metadata": {},
   "outputs": [],
   "source": [
    "def cleansing(text):\n",
    "    text = text.lower()\n",
    "    word_list = word_tokenize(text)\n",
    "    word_list = [word for word in word_list if len(word) > 1]\n",
    "    word_list = [word for word in word_list if word not in sw_indo]\n",
    "    text = ' '.join(word_list)\n",
    "    return text"
   ]
  },
  {
   "cell_type": "code",
   "execution_count": 16,
   "id": "welsh-button",
   "metadata": {},
   "outputs": [],
   "source": [
    "df_train['content'] = df_train.content.apply(cleansing)"
   ]
  },
  {
   "cell_type": "code",
   "execution_count": 17,
   "id": "complex-supply",
   "metadata": {},
   "outputs": [],
   "source": [
    "df_test['content'] = df_test.content.apply(cleansing)"
   ]
  },
  {
   "cell_type": "code",
   "execution_count": 18,
   "id": "mechanical-character",
   "metadata": {},
   "outputs": [
    {
     "data": {
      "text/plain": [
       "'liputan6.com london lee dixon khawatir arsenal tak merekrut denis suarez permanen musim panas pasalnya sejauh suarez cadangan gunners suarez dipinjam arsenal barcelona januari gunners membelinya akhir musim permainannya memuaskan sejauh suarez tak pilihan utama arsenal manajer unai emery memberinya kesempatan bermain 85 menit emery mungkin tahu kualitas suarez tahu suarez pemain dibutuhkannya dixon dilansir evening standard sudut pandang suarez pasti berpikir pindah tidak bermain mungkin menolak arsenal katanya menambahkan'"
      ]
     },
     "execution_count": 18,
     "metadata": {},
     "output_type": "execute_result"
    }
   ],
   "source": [
    "df_train.content[0]"
   ]
  },
  {
   "cell_type": "code",
   "execution_count": 19,
   "id": "official-fortune",
   "metadata": {},
   "outputs": [
    {
     "data": {
      "text/plain": [
       "'jakarta liga champions 2018-2019 memasuki putaran 16 besar selasa 12/2/2019 waktu setempat hasil mengejutkan terjadi manchester united menyerah paris saint-germain tidak tanggung-tanggung manchester united takluk dua gol tanpa balas menjamu paris saint-germain padahal setan merah diunggulkan sedang performa apik sang lawan tampil tanpa dua pemain terbaiknya neymar serta edinson cavani meski demikian angel maria aktor utama kemenangan paris saint-germain mantan pemain manchester united melepaskan dua umpan berujung gol kemenangan timnya dicetak presnel kimpembe kylian mbappe hasil menguntungkan paris saint-germain lolos perempat final sebab pasukan thomas tuchel gantian menjamu manchester united parc des princes paris maret mendatang laga as roma membungkus kemenangan 2-1 fc porto stadion olimpico roma dua gol kemenangan lupi dicetak pemain muda nicolo zaniolo adapun satu-satunya gol fc porto dilesakkan adrian lopez meski kalah fc porto peluang lolos perempat final liga champions besar ketimbang manchester united fc porto butuh kemenangan 1-0 gantian menjamu as roma stadion do dragao porto maret 2019'"
      ]
     },
     "execution_count": 19,
     "metadata": {},
     "output_type": "execute_result"
    }
   ],
   "source": [
    "df_train.content[312]"
   ]
  },
  {
   "cell_type": "code",
   "execution_count": 20,
   "id": "arabic-stability",
   "metadata": {},
   "outputs": [
    {
     "data": {
      "text/html": [
       "<div>\n",
       "<style scoped>\n",
       "    .dataframe tbody tr th:only-of-type {\n",
       "        vertical-align: middle;\n",
       "    }\n",
       "\n",
       "    .dataframe tbody tr th {\n",
       "        vertical-align: top;\n",
       "    }\n",
       "\n",
       "    .dataframe thead th {\n",
       "        text-align: right;\n",
       "    }\n",
       "</style>\n",
       "<table border=\"1\" class=\"dataframe\">\n",
       "  <thead>\n",
       "    <tr style=\"text-align: right;\">\n",
       "      <th></th>\n",
       "      <th>content</th>\n",
       "      <th>label</th>\n",
       "    </tr>\n",
       "  </thead>\n",
       "  <tbody>\n",
       "    <tr>\n",
       "      <th>0</th>\n",
       "      <td>liputan6.com london lee dixon khawatir arsenal...</td>\n",
       "      <td>bola</td>\n",
       "    </tr>\n",
       "    <tr>\n",
       "      <th>1</th>\n",
       "      <td>liputan6.com jakarta kasus dugaan penganiayaan...</td>\n",
       "      <td>news</td>\n",
       "    </tr>\n",
       "    <tr>\n",
       "      <th>2</th>\n",
       "      <td>liputan6.com jakarta menanggapi aksi eks peker...</td>\n",
       "      <td>bisnis</td>\n",
       "    </tr>\n",
       "    <tr>\n",
       "      <th>3</th>\n",
       "      <td>liputan6.com medan sebanyak 81 kendaraan 4x4 7...</td>\n",
       "      <td>bola</td>\n",
       "    </tr>\n",
       "    <tr>\n",
       "      <th>4</th>\n",
       "      <td>liputan6.com jakarta indonesia melawan thailan...</td>\n",
       "      <td>bola</td>\n",
       "    </tr>\n",
       "  </tbody>\n",
       "</table>\n",
       "</div>"
      ],
      "text/plain": [
       "                                             content   label\n",
       "0  liputan6.com london lee dixon khawatir arsenal...    bola\n",
       "1  liputan6.com jakarta kasus dugaan penganiayaan...    news\n",
       "2  liputan6.com jakarta menanggapi aksi eks peker...  bisnis\n",
       "3  liputan6.com medan sebanyak 81 kendaraan 4x4 7...    bola\n",
       "4  liputan6.com jakarta indonesia melawan thailan...    bola"
      ]
     },
     "execution_count": 20,
     "metadata": {},
     "output_type": "execute_result"
    }
   ],
   "source": [
    "df_train.head()"
   ]
  },
  {
   "cell_type": "code",
   "execution_count": 21,
   "id": "coordinate-seminar",
   "metadata": {},
   "outputs": [
    {
     "data": {
      "text/html": [
       "<div>\n",
       "<style scoped>\n",
       "    .dataframe tbody tr th:only-of-type {\n",
       "        vertical-align: middle;\n",
       "    }\n",
       "\n",
       "    .dataframe tbody tr th {\n",
       "        vertical-align: top;\n",
       "    }\n",
       "\n",
       "    .dataframe thead th {\n",
       "        text-align: right;\n",
       "    }\n",
       "</style>\n",
       "<table border=\"1\" class=\"dataframe\">\n",
       "  <thead>\n",
       "    <tr style=\"text-align: right;\">\n",
       "      <th></th>\n",
       "      <th>content</th>\n",
       "      <th>label</th>\n",
       "    </tr>\n",
       "  </thead>\n",
       "  <tbody>\n",
       "    <tr>\n",
       "      <th>0</th>\n",
       "      <td>liputan6.com bandung persib bandung menjalani ...</td>\n",
       "      <td>bola</td>\n",
       "    </tr>\n",
       "    <tr>\n",
       "      <th>1</th>\n",
       "      <td>liputan6.com jakarta mantan ketua mahkamah kon...</td>\n",
       "      <td>news</td>\n",
       "    </tr>\n",
       "    <tr>\n",
       "      <th>2</th>\n",
       "      <td>liputan6.com cardiff tragedi menimpa emiliano ...</td>\n",
       "      <td>bola</td>\n",
       "    </tr>\n",
       "    <tr>\n",
       "      <th>3</th>\n",
       "      <td>liputan6.com jakarta kementerian kelautan peri...</td>\n",
       "      <td>bisnis</td>\n",
       "    </tr>\n",
       "    <tr>\n",
       "      <th>4</th>\n",
       "      <td>liputan6.com jakarta pt pertamina persero petr...</td>\n",
       "      <td>bisnis</td>\n",
       "    </tr>\n",
       "  </tbody>\n",
       "</table>\n",
       "</div>"
      ],
      "text/plain": [
       "                                             content   label\n",
       "0  liputan6.com bandung persib bandung menjalani ...    bola\n",
       "1  liputan6.com jakarta mantan ketua mahkamah kon...    news\n",
       "2  liputan6.com cardiff tragedi menimpa emiliano ...    bola\n",
       "3  liputan6.com jakarta kementerian kelautan peri...  bisnis\n",
       "4  liputan6.com jakarta pt pertamina persero petr...  bisnis"
      ]
     },
     "execution_count": 21,
     "metadata": {},
     "output_type": "execute_result"
    }
   ],
   "source": [
    "df_test.head()"
   ]
  },
  {
   "cell_type": "markdown",
   "id": "a1514f80",
   "metadata": {},
   "source": [
    "## Word Vector"
   ]
  },
  {
   "cell_type": "code",
   "execution_count": 22,
   "id": "ef1bcf97",
   "metadata": {},
   "outputs": [],
   "source": [
    "from gensim.models import FastText"
   ]
  },
  {
   "cell_type": "code",
   "execution_count": 23,
   "id": "be2dafa9",
   "metadata": {},
   "outputs": [],
   "source": [
    "wv = FastText.load(\"pretrained/content.fasttext\").wv"
   ]
  },
  {
   "cell_type": "code",
   "execution_count": 24,
   "id": "81a1f662",
   "metadata": {},
   "outputs": [],
   "source": [
    "def norm_sent_vector(sentences, wv_model):\n",
    "    vecs = [wv_model[word.lower()] for word in word_tokenize(sentences)]\n",
    "    norm_vecs = [vec / np.linalg.norm(vec) for vec in vecs if np.linalg.norm(vec) > 0]\n",
    "    sent_vect = np.mean(norm_vecs, axis=0)\n",
    "    return sent_vect"
   ]
  },
  {
   "cell_type": "code",
   "execution_count": 25,
   "id": "61572614",
   "metadata": {},
   "outputs": [
    {
     "data": {
      "text/plain": [
       "(6127, 50)"
      ]
     },
     "execution_count": 25,
     "metadata": {},
     "output_type": "execute_result"
    }
   ],
   "source": [
    "vectors_train = [norm_sent_vector(sentences, wv) for sentences in df_train.content]\n",
    "vectors_train = np.array(vectors_train)\n",
    "vectors_train.shape"
   ]
  },
  {
   "cell_type": "code",
   "execution_count": 26,
   "id": "fbccadf4",
   "metadata": {},
   "outputs": [
    {
     "data": {
      "text/plain": [
       "(2627, 50)"
      ]
     },
     "execution_count": 26,
     "metadata": {},
     "output_type": "execute_result"
    }
   ],
   "source": [
    "vectors_test = [norm_sent_vector(sentences, wv) for sentences in df_test.content]\n",
    "vectors_test = np.array(vectors_test)\n",
    "vectors_test.shape"
   ]
  },
  {
   "cell_type": "markdown",
   "id": "damaged-seven",
   "metadata": {},
   "source": [
    "## Dataset Splitting"
   ]
  },
  {
   "cell_type": "code",
   "execution_count": 27,
   "id": "arbitrary-allocation",
   "metadata": {},
   "outputs": [
    {
     "data": {
      "text/plain": [
       "((6127, 50), (6127,), (2627, 50), (2627,))"
      ]
     },
     "execution_count": 27,
     "metadata": {},
     "output_type": "execute_result"
    }
   ],
   "source": [
    "X_train = vectors_train\n",
    "y_train = df_train.label\n",
    "X_test = vectors_test\n",
    "y_test = df_test.label\n",
    "\n",
    "X_train.shape, y_train.shape, X_test.shape, y_test.shape"
   ]
  },
  {
   "cell_type": "markdown",
   "id": "domestic-contemporary",
   "metadata": {},
   "source": [
    "## Modeling"
   ]
  },
  {
   "cell_type": "code",
   "execution_count": 28,
   "id": "defensive-consciousness",
   "metadata": {},
   "outputs": [],
   "source": [
    "from lightgbm import LGBMClassifier\n",
    "from sklearn.model_selection import RandomizedSearchCV\n",
    "from jcopml.tuning import random_search_params as rsp\n",
    "from jcopml.tuning.space import Integer, Real"
   ]
  },
  {
   "cell_type": "code",
   "execution_count": 29,
   "id": "powerful-version",
   "metadata": {},
   "outputs": [
    {
     "name": "stdout",
     "output_type": "stream",
     "text": [
      "Fitting 5 folds for each of 50 candidates, totalling 250 fits\n"
     ]
    },
    {
     "name": "stderr",
     "output_type": "stream",
     "text": [
      "[Parallel(n_jobs=-2)]: Using backend LokyBackend with 3 concurrent workers.\n",
      "[Parallel(n_jobs=-2)]: Done  44 tasks      | elapsed:  1.5min\n",
      "[Parallel(n_jobs=-2)]: Done 194 tasks      | elapsed:  6.4min\n",
      "[Parallel(n_jobs=-2)]: Done 250 out of 250 | elapsed:  8.1min finished\n"
     ]
    },
    {
     "name": "stdout",
     "output_type": "stream",
     "text": [
      "{'algo__colsample_bytree': 0.9687297765377243, 'algo__learning_rate': 0.1637074694637572, 'algo__max_depth': 9, 'algo__min_child_samples': 15, 'algo__n_estimators': 144, 'algo__num_leaves': 65, 'algo__reg_alpha': 0.0011549033124221243, 'algo__reg_lambda': 0.0493862354772472, 'algo__subsample': 0.4974407590877849}\n",
      "0.9921203347208838 0.8934462199124757 0.8870589318718478\n"
     ]
    }
   ],
   "source": [
    "pipeline = Pipeline([\n",
    "    ('algo', LGBMClassifier(n_jobs=-2, random_state=42))\n",
    "])\n",
    "\n",
    "parameter = {'algo__max_depth': Integer(low=1, high=10),\n",
    "             'algo__num_leaves': Integer(low=1, high=1023),\n",
    "             'algo__learning_rate': Real(low=-2, high=0, prior='log-uniform'),\n",
    "             'algo__n_estimators': Integer(low=100, high=200),\n",
    "             'algo__subsample': Real(low=0.3, high=0.8, prior='uniform'),\n",
    "             'algo__colsample_bytree': Real(low=0.1, high=1, prior='uniform'),\n",
    "             'algo__min_child_samples': Integer(low=1, high=20),\n",
    "             'algo__reg_alpha': Real(low=-3, high=1, prior='log-uniform'),\n",
    "             'algo__reg_lambda': Real(low=-3, high=1, prior='log-uniform')}\n",
    "\n",
    "model = RandomizedSearchCV(pipeline, parameter, cv=5, scoring='f1_macro', n_iter=50, n_jobs=-2, verbose=1, random_state=42)\n",
    "model.fit(X_train, y_train)\n",
    "\n",
    "print(model.best_params_)\n",
    "print(model.score(X_train, y_train), model.best_score_, model.score(X_test, y_test))"
   ]
  },
  {
   "cell_type": "markdown",
   "id": "immune-domestic",
   "metadata": {},
   "source": [
    "## Tambahkan Class Weight"
   ]
  },
  {
   "cell_type": "code",
   "execution_count": 30,
   "id": "1fa878b0",
   "metadata": {},
   "outputs": [
    {
     "name": "stdout",
     "output_type": "stream",
     "text": [
      "Fitting 5 folds for each of 50 candidates, totalling 250 fits\n"
     ]
    },
    {
     "name": "stderr",
     "output_type": "stream",
     "text": [
      "[Parallel(n_jobs=-2)]: Using backend LokyBackend with 3 concurrent workers.\n",
      "[Parallel(n_jobs=-2)]: Done  44 tasks      | elapsed:   50.5s\n",
      "[Parallel(n_jobs=-2)]: Done 194 tasks      | elapsed:  4.8min\n",
      "[Parallel(n_jobs=-2)]: Done 250 out of 250 | elapsed:  6.2min finished\n"
     ]
    },
    {
     "name": "stdout",
     "output_type": "stream",
     "text": [
      "{'algo__class_weight': {'bola': 0.1, 'news': 0.1, 'bisnis': 0.1, 'tekno': 0.1, 'otomotif': 0.6}, 'algo__colsample_bytree': 0.9122976160116101, 'algo__learning_rate': 0.10244829732647412, 'algo__max_depth': 9, 'algo__min_child_samples': 13, 'algo__n_estimators': 158, 'algo__num_leaves': 19, 'algo__reg_alpha': 0.0360418201288864, 'algo__reg_lambda': 0.001104970302415413, 'algo__subsample': 0.752690988209632}\n",
      "0.9921203347208838 0.8995074653040627 0.8992708502612772\n"
     ]
    }
   ],
   "source": [
    "pipeline = Pipeline([\n",
    "    ('algo', LGBMClassifier(n_jobs=-2, random_state=42))\n",
    "])\n",
    "\n",
    "parameter = {'algo__max_depth': Integer(low=1, high=10),\n",
    "             'algo__num_leaves': Integer(low=1, high=1023),\n",
    "             'algo__learning_rate': Real(low=-2, high=0, prior='log-uniform'),\n",
    "             'algo__n_estimators': Integer(low=100, high=200),\n",
    "             'algo__subsample': Real(low=0.3, high=0.8, prior='uniform'),\n",
    "             'algo__colsample_bytree': Real(low=0.1, high=1, prior='uniform'),\n",
    "             'algo__min_child_samples': Integer(low=1, high=20),\n",
    "             'algo__reg_alpha': Real(low=-3, high=1, prior='log-uniform'),\n",
    "             'algo__reg_lambda': Real(low=-3, high=1, prior='log-uniform'),\n",
    "             'algo__class_weight': [{'bola': 0.05, 'news': 0.05, 'bisnis': 0.05, 'tekno': 0.05, 'otomotif': 0.8},\n",
    "                                   {'bola': 0.1, 'news': 0.1, 'bisnis': 0.1, 'tekno': 0.1, 'otomotif': 0.6}]}\n",
    "\n",
    "model = RandomizedSearchCV(pipeline, parameter, cv=5, scoring='f1_macro', n_iter=50, n_jobs=-2, verbose=1, random_state=42)\n",
    "model.fit(X_train, y_train)\n",
    "\n",
    "print(model.best_params_)\n",
    "print(model.score(X_train, y_train), model.best_score_, model.score(X_test, y_test))"
   ]
  },
  {
   "cell_type": "markdown",
   "id": "acute-encyclopedia",
   "metadata": {},
   "source": [
    "## Fine Tuning"
   ]
  },
  {
   "cell_type": "code",
   "execution_count": 31,
   "id": "correct-chicago",
   "metadata": {},
   "outputs": [
    {
     "name": "stdout",
     "output_type": "stream",
     "text": [
      "Fitting 5 folds for each of 100 candidates, totalling 500 fits\n"
     ]
    },
    {
     "name": "stderr",
     "output_type": "stream",
     "text": [
      "[Parallel(n_jobs=-2)]: Using backend LokyBackend with 3 concurrent workers.\n",
      "[Parallel(n_jobs=-2)]: Done  44 tasks      | elapsed:  1.3min\n",
      "[Parallel(n_jobs=-2)]: Done 194 tasks      | elapsed:  3.6min\n",
      "[Parallel(n_jobs=-2)]: Done 444 tasks      | elapsed:  8.7min\n",
      "[Parallel(n_jobs=-2)]: Done 500 out of 500 | elapsed:  9.7min finished\n"
     ]
    },
    {
     "name": "stdout",
     "output_type": "stream",
     "text": [
      "{'algo__class_weight': {'bola': 0.1, 'news': 0.1, 'bisnis': 0.1, 'tekno': 0.1, 'otomotif': 0.6}, 'algo__colsample_bytree': 0.8699145256099066, 'algo__learning_rate': 0.2554557712861928, 'algo__max_depth': 10, 'algo__min_child_samples': 16, 'algo__n_estimators': 184, 'algo__num_leaves': 551, 'algo__reg_alpha': 0.053891665493706074, 'algo__reg_lambda': 0.21055669965795687, 'algo__subsample': 0.6898642095856582}\n",
      "0.9921203347208838 0.8968526608639342 0.9031213623308837\n"
     ]
    }
   ],
   "source": [
    "pipeline = Pipeline([\n",
    "    ('algo', LGBMClassifier(n_jobs=-2, random_state=42))\n",
    "])\n",
    "\n",
    "parameter = {'algo__max_depth': Integer(low=1, high=10),\n",
    "             'algo__num_leaves': Integer(low=1, high=1023),\n",
    "             'algo__learning_rate': Real(low=-2, high=0, prior='log-uniform'),\n",
    "             'algo__n_estimators': Integer(low=100, high=250),\n",
    "             'algo__subsample': Real(low=0.3, high=0.9, prior='uniform'),\n",
    "             'algo__colsample_bytree': Real(low=0.1, high=1, prior='uniform'),\n",
    "             'algo__min_child_samples': Integer(low=1, high=20),\n",
    "             'algo__reg_alpha': Real(low=-3, high=2, prior='log-uniform'),\n",
    "             'algo__reg_lambda': Real(low=-3, high=2, prior='log-uniform'),\n",
    "             'algo__class_weight': [{'bola': 0.05, 'news': 0.05, 'bisnis': 0.05, 'tekno': 0.05, 'otomotif': 0.8},\n",
    "                                   {'bola': 0.1, 'news': 0.1, 'bisnis': 0.1, 'tekno': 0.1, 'otomotif': 0.6}]}\n",
    "\n",
    "model = RandomizedSearchCV(pipeline, parameter, cv=5, scoring='f1_macro', n_iter=50, n_jobs=-2, verbose=1, random_state=42)\n",
    "model.fit(X_train, y_train)\n",
    "\n",
    "print(model.best_params_)\n",
    "print(model.score(X_train, y_train), model.best_score_, model.score(X_test, y_test))"
   ]
  },
  {
   "cell_type": "markdown",
   "id": "disturbed-graduate",
   "metadata": {},
   "source": [
    "Setelah ditambahkan class weight dan melakukan fine tuning terjadi kenaikan skor >1% pada data test."
   ]
  },
  {
   "cell_type": "markdown",
   "id": "supposed-yeast",
   "metadata": {},
   "source": [
    "## Evaluation"
   ]
  },
  {
   "cell_type": "code",
   "execution_count": 32,
   "id": "informational-cardiff",
   "metadata": {},
   "outputs": [],
   "source": [
    "from sklearn.metrics import roc_auc_score\n",
    "from jcopml.plot import plot_classification_report, plot_confusion_matrix"
   ]
  },
  {
   "cell_type": "code",
   "execution_count": 33,
   "id": "governmental-radio",
   "metadata": {},
   "outputs": [
    {
     "data": {
      "text/plain": [
       "0.9997121652337144"
      ]
     },
     "execution_count": 33,
     "metadata": {},
     "output_type": "execute_result"
    }
   ],
   "source": [
    "roc_auc_score(y_train, model.predict_proba(X_train), multi_class='ovr')"
   ]
  },
  {
   "cell_type": "code",
   "execution_count": 34,
   "id": "affecting-appraisal",
   "metadata": {},
   "outputs": [
    {
     "data": {
      "text/plain": [
       "0.989013001349775"
      ]
     },
     "execution_count": 34,
     "metadata": {},
     "output_type": "execute_result"
    }
   ],
   "source": [
    "roc_auc_score(y_test, model.predict_proba(X_test), multi_class='ovr')"
   ]
  },
  {
   "cell_type": "code",
   "execution_count": 35,
   "id": "collective-macedonia",
   "metadata": {},
   "outputs": [
    {
     "name": "stdout",
     "output_type": "stream",
     "text": [
      "Train report\n",
      "              precision    recall  f1-score   support\n",
      "\n",
      "      bisnis       1.00      0.99      0.99      1339\n",
      "        bola       1.00      0.98      0.99      2063\n",
      "        news       0.97      1.00      0.98      2017\n",
      "    otomotif       1.00      0.99      1.00       130\n",
      "       tekno       1.00      0.99      1.00       578\n",
      "\n",
      "    accuracy                           0.99      6127\n",
      "   macro avg       0.99      0.99      0.99      6127\n",
      "weighted avg       0.99      0.99      0.99      6127\n",
      "\n",
      "\n",
      "Test report\n",
      "              precision    recall  f1-score   support\n",
      "\n",
      "      bisnis       0.87      0.89      0.88       542\n",
      "        bola       0.98      0.97      0.97       923\n",
      "        news       0.90      0.93      0.91       880\n",
      "    otomotif       0.98      0.79      0.87        70\n",
      "       tekno       0.91      0.84      0.87       212\n",
      "\n",
      "    accuracy                           0.92      2627\n",
      "   macro avg       0.93      0.88      0.90      2627\n",
      "weighted avg       0.92      0.92      0.92      2627\n",
      "\n"
     ]
    }
   ],
   "source": [
    "plot_classification_report(X_train, y_train, X_test, y_test, model, report=True)"
   ]
  },
  {
   "cell_type": "code",
   "execution_count": 36,
   "id": "official-decline",
   "metadata": {},
   "outputs": [
    {
     "data": {
      "image/png": "[encoded data removed]",
      "text/plain": [
       "<Figure size 792x360 with 2 Axes>"
      ]
     },
     "metadata": {
      "needs_background": "light"
     },
     "output_type": "display_data"
    }
   ],
   "source": [
    "plot_confusion_matrix(X_train, y_train, X_test, y_test, model)"
   ]
  },
  {
   "cell_type": "markdown",
   "id": "atlantic-taxation",
   "metadata": {},
   "source": [
    "## Save Model"
   ]
  },
  {
   "cell_type": "code",
   "execution_count": 37,
   "id": "exposed-radio",
   "metadata": {},
   "outputs": [
    {
     "name": "stdout",
     "output_type": "stream",
     "text": [
      "Model is pickled as model/lgbm.pkl\n"
     ]
    }
   ],
   "source": [
    "save_model(model.best_estimator_, \"lgbm.pkl\")"
   ]
  },
  {
   "cell_type": "markdown",
   "id": "broke-saudi",
   "metadata": {},
   "source": [
    "## Check "
   ]
  },
  {
   "cell_type": "code",
   "execution_count": 38,
   "id": "fitting-partnership",
   "metadata": {},
   "outputs": [],
   "source": [
    "text = '''Di Thailand, bengkel motor custom OK Easy Shop berhasil melahirkan street tracker mumpuni  dengan basis Interceptor 650. \n",
    "Secara konsep, ubahannya mengarah ke street tracker. Tapi, ada unsur scrambler yang dimasukkan, yakni pada bagian knalpotnya.'''"
   ]
  },
  {
   "cell_type": "code",
   "execution_count": 39,
   "id": "retained-murray",
   "metadata": {},
   "outputs": [],
   "source": [
    "text = cleansing(text)\n",
    "text = norm_sent_vector(text, wv)"
   ]
  },
  {
   "cell_type": "code",
   "execution_count": 40,
   "id": "bibliographic-cooperative",
   "metadata": {},
   "outputs": [
    {
     "data": {
      "text/plain": [
       "array(['otomotif'], dtype=object)"
      ]
     },
     "execution_count": 40,
     "metadata": {},
     "output_type": "execute_result"
    }
   ],
   "source": [
    "model.predict([text])"
   ]
  },
  {
   "cell_type": "markdown",
   "id": "cloudy-debate",
   "metadata": {},
   "source": [
    "## Coba Cek Datanya!"
   ]
  },
  {
   "cell_type": "code",
   "execution_count": 41,
   "id": "needed-pastor",
   "metadata": {},
   "outputs": [
    {
     "data": {
      "text/html": [
       "<div>\n",
       "<style scoped>\n",
       "    .dataframe tbody tr th:only-of-type {\n",
       "        vertical-align: middle;\n",
       "    }\n",
       "\n",
       "    .dataframe tbody tr th {\n",
       "        vertical-align: top;\n",
       "    }\n",
       "\n",
       "    .dataframe thead th {\n",
       "        text-align: right;\n",
       "    }\n",
       "</style>\n",
       "<table border=\"1\" class=\"dataframe\">\n",
       "  <thead>\n",
       "    <tr style=\"text-align: right;\">\n",
       "      <th></th>\n",
       "      <th>content</th>\n",
       "      <th>pred</th>\n",
       "      <th>actual</th>\n",
       "    </tr>\n",
       "  </thead>\n",
       "  <tbody>\n",
       "    <tr>\n",
       "      <th>0</th>\n",
       "      <td>liputan6.com bandung persib bandung menjalani ...</td>\n",
       "      <td>bola</td>\n",
       "      <td>bola</td>\n",
       "    </tr>\n",
       "    <tr>\n",
       "      <th>1</th>\n",
       "      <td>liputan6.com jakarta mantan ketua mahkamah kon...</td>\n",
       "      <td>news</td>\n",
       "      <td>news</td>\n",
       "    </tr>\n",
       "    <tr>\n",
       "      <th>2</th>\n",
       "      <td>liputan6.com cardiff tragedi menimpa emiliano ...</td>\n",
       "      <td>bola</td>\n",
       "      <td>bola</td>\n",
       "    </tr>\n",
       "    <tr>\n",
       "      <th>3</th>\n",
       "      <td>liputan6.com jakarta kementerian kelautan peri...</td>\n",
       "      <td>bisnis</td>\n",
       "      <td>bisnis</td>\n",
       "    </tr>\n",
       "    <tr>\n",
       "      <th>4</th>\n",
       "      <td>liputan6.com jakarta pt pertamina persero petr...</td>\n",
       "      <td>bisnis</td>\n",
       "      <td>bisnis</td>\n",
       "    </tr>\n",
       "  </tbody>\n",
       "</table>\n",
       "</div>"
      ],
      "text/plain": [
       "                                             content    pred  actual\n",
       "0  liputan6.com bandung persib bandung menjalani ...    bola    bola\n",
       "1  liputan6.com jakarta mantan ketua mahkamah kon...    news    news\n",
       "2  liputan6.com cardiff tragedi menimpa emiliano ...    bola    bola\n",
       "3  liputan6.com jakarta kementerian kelautan peri...  bisnis  bisnis\n",
       "4  liputan6.com jakarta pt pertamina persero petr...  bisnis  bisnis"
      ]
     },
     "execution_count": 41,
     "metadata": {},
     "output_type": "execute_result"
    }
   ],
   "source": [
    "df_analisis = pd.DataFrame(df_test.copy(), columns=['content'])\n",
    "df_analisis['pred'] = model.predict(X_test)\n",
    "df_analisis['actual'] = y_test.copy()\n",
    "df_analisis.head()"
   ]
  },
  {
   "cell_type": "code",
   "execution_count": 42,
   "id": "excited-grill",
   "metadata": {},
   "outputs": [
    {
     "data": {
      "text/html": [
       "<div>\n",
       "<style scoped>\n",
       "    .dataframe tbody tr th:only-of-type {\n",
       "        vertical-align: middle;\n",
       "    }\n",
       "\n",
       "    .dataframe tbody tr th {\n",
       "        vertical-align: top;\n",
       "    }\n",
       "\n",
       "    .dataframe thead th {\n",
       "        text-align: right;\n",
       "    }\n",
       "</style>\n",
       "<table border=\"1\" class=\"dataframe\">\n",
       "  <thead>\n",
       "    <tr style=\"text-align: right;\">\n",
       "      <th></th>\n",
       "      <th>content</th>\n",
       "      <th>pred</th>\n",
       "      <th>actual</th>\n",
       "    </tr>\n",
       "  </thead>\n",
       "  <tbody>\n",
       "    <tr>\n",
       "      <th>5</th>\n",
       "      <td>liputan6.com jakarta debat capres 2019 putaran...</td>\n",
       "      <td>news</td>\n",
       "      <td>bisnis</td>\n",
       "    </tr>\n",
       "    <tr>\n",
       "      <th>119</th>\n",
       "      <td>liputan6.com jakarta menteri pendayagunaan apa...</td>\n",
       "      <td>news</td>\n",
       "      <td>bisnis</td>\n",
       "    </tr>\n",
       "    <tr>\n",
       "      <th>200</th>\n",
       "      <td>liputan6.com jakarta pertimbangan melaksanakan...</td>\n",
       "      <td>news</td>\n",
       "      <td>bisnis</td>\n",
       "    </tr>\n",
       "    <tr>\n",
       "      <th>237</th>\n",
       "      <td>memasuki tahun kelima nestlé milo menggelar mi...</td>\n",
       "      <td>news</td>\n",
       "      <td>bisnis</td>\n",
       "    </tr>\n",
       "    <tr>\n",
       "      <th>405</th>\n",
       "      <td>liputan6.com jakarta rangka meningkatkan kesad...</td>\n",
       "      <td>news</td>\n",
       "      <td>bisnis</td>\n",
       "    </tr>\n",
       "    <tr>\n",
       "      <th>429</th>\n",
       "      <td>liputan6.com jakarta pemerintah menyatakan kom...</td>\n",
       "      <td>news</td>\n",
       "      <td>bisnis</td>\n",
       "    </tr>\n",
       "    <tr>\n",
       "      <th>432</th>\n",
       "      <td>memasuki tahun kelima nestlé milo menggelar mi...</td>\n",
       "      <td>news</td>\n",
       "      <td>bisnis</td>\n",
       "    </tr>\n",
       "    <tr>\n",
       "      <th>470</th>\n",
       "      <td>liputan6.com bandung menteri kelautan perikana...</td>\n",
       "      <td>news</td>\n",
       "      <td>bisnis</td>\n",
       "    </tr>\n",
       "    <tr>\n",
       "      <th>508</th>\n",
       "      <td>liputan6.com jakarta kementerian pekerjaan umu...</td>\n",
       "      <td>news</td>\n",
       "      <td>bisnis</td>\n",
       "    </tr>\n",
       "    <tr>\n",
       "      <th>561</th>\n",
       "      <td>liputan6.com jakarta relawan pengusaha muda na...</td>\n",
       "      <td>news</td>\n",
       "      <td>bisnis</td>\n",
       "    </tr>\n",
       "    <tr>\n",
       "      <th>657</th>\n",
       "      <td>memasuki tahun kelima nestlé milo menggelar mi...</td>\n",
       "      <td>news</td>\n",
       "      <td>bisnis</td>\n",
       "    </tr>\n",
       "    <tr>\n",
       "      <th>690</th>\n",
       "      <td>liputan6.com jakarta pemerintah memastikan men...</td>\n",
       "      <td>news</td>\n",
       "      <td>bisnis</td>\n",
       "    </tr>\n",
       "    <tr>\n",
       "      <th>699</th>\n",
       "      <td>liputan6.com jakarta kunjungan anggota dpd ri ...</td>\n",
       "      <td>news</td>\n",
       "      <td>bisnis</td>\n",
       "    </tr>\n",
       "    <tr>\n",
       "      <th>715</th>\n",
       "      <td>liputan6.com jakarta rencana pernikahan syahri...</td>\n",
       "      <td>news</td>\n",
       "      <td>bisnis</td>\n",
       "    </tr>\n",
       "    <tr>\n",
       "      <th>770</th>\n",
       "      <td>liputan6.com jakarta kementerian bumn berkomit...</td>\n",
       "      <td>news</td>\n",
       "      <td>bisnis</td>\n",
       "    </tr>\n",
       "    <tr>\n",
       "      <th>804</th>\n",
       "      <td>liputan6.com jakarta pemerintah menyatakan pen...</td>\n",
       "      <td>news</td>\n",
       "      <td>bisnis</td>\n",
       "    </tr>\n",
       "    <tr>\n",
       "      <th>842</th>\n",
       "      <td>liputan6.com jakarta pebisnis muda kaesang pan...</td>\n",
       "      <td>news</td>\n",
       "      <td>bisnis</td>\n",
       "    </tr>\n",
       "    <tr>\n",
       "      <th>878</th>\n",
       "      <td>presiden jokowi membuka rapat kerja nasional k...</td>\n",
       "      <td>news</td>\n",
       "      <td>bisnis</td>\n",
       "    </tr>\n",
       "    <tr>\n",
       "      <th>900</th>\n",
       "      <td>liputan6.com jakarta mass rapit transit mrt ja...</td>\n",
       "      <td>news</td>\n",
       "      <td>bisnis</td>\n",
       "    </tr>\n",
       "    <tr>\n",
       "      <th>937</th>\n",
       "      <td>liputan6.com jakarta calon presiden nomor urut...</td>\n",
       "      <td>news</td>\n",
       "      <td>bisnis</td>\n",
       "    </tr>\n",
       "    <tr>\n",
       "      <th>948</th>\n",
       "      <td>liputan6.com jakarta calon wakil presiden cawa...</td>\n",
       "      <td>news</td>\n",
       "      <td>bisnis</td>\n",
       "    </tr>\n",
       "    <tr>\n",
       "      <th>1094</th>\n",
       "      <td>liputan6.com jakarta menteri pendayagunaan apa...</td>\n",
       "      <td>news</td>\n",
       "      <td>bisnis</td>\n",
       "    </tr>\n",
       "    <tr>\n",
       "      <th>1164</th>\n",
       "      <td>memasuki tahun kelima nestlé milo menggelar mi...</td>\n",
       "      <td>news</td>\n",
       "      <td>bisnis</td>\n",
       "    </tr>\n",
       "    <tr>\n",
       "      <th>1213</th>\n",
       "      <td>liputan6.com jakarta pengusaha nasional eka tj...</td>\n",
       "      <td>news</td>\n",
       "      <td>bisnis</td>\n",
       "    </tr>\n",
       "    <tr>\n",
       "      <th>1233</th>\n",
       "      <td>memasuki tahun kelima nestlé milo menggelar mi...</td>\n",
       "      <td>news</td>\n",
       "      <td>bisnis</td>\n",
       "    </tr>\n",
       "    <tr>\n",
       "      <th>1241</th>\n",
       "      <td>liputan6.com jakarta pltu suralaya memberikan ...</td>\n",
       "      <td>news</td>\n",
       "      <td>bisnis</td>\n",
       "    </tr>\n",
       "    <tr>\n",
       "      <th>1363</th>\n",
       "      <td>perajin menunjukkan hasil lukisan kaleng bekas...</td>\n",
       "      <td>news</td>\n",
       "      <td>bisnis</td>\n",
       "    </tr>\n",
       "    <tr>\n",
       "      <th>1422</th>\n",
       "      <td>liputan6.com jakarta badan kepegawaian negara ...</td>\n",
       "      <td>news</td>\n",
       "      <td>bisnis</td>\n",
       "    </tr>\n",
       "    <tr>\n",
       "      <th>1451</th>\n",
       "      <td>liputan6.com pamekasan menteri pertanian menta...</td>\n",
       "      <td>news</td>\n",
       "      <td>bisnis</td>\n",
       "    </tr>\n",
       "    <tr>\n",
       "      <th>1574</th>\n",
       "      <td>soeharto didampingi wakilnya bj habibie membac...</td>\n",
       "      <td>news</td>\n",
       "      <td>bisnis</td>\n",
       "    </tr>\n",
       "    <tr>\n",
       "      <th>1602</th>\n",
       "      <td>memasuki tahun kelima nestlé milo menggelar mi...</td>\n",
       "      <td>news</td>\n",
       "      <td>bisnis</td>\n",
       "    </tr>\n",
       "    <tr>\n",
       "      <th>1661</th>\n",
       "      <td>liputan6.com jakarta seorang menteri ternyata ...</td>\n",
       "      <td>news</td>\n",
       "      <td>bisnis</td>\n",
       "    </tr>\n",
       "    <tr>\n",
       "      <th>1670</th>\n",
       "      <td>liputan6.com jakarta pt wijaya karya tbk wika ...</td>\n",
       "      <td>news</td>\n",
       "      <td>bisnis</td>\n",
       "    </tr>\n",
       "    <tr>\n",
       "      <th>1777</th>\n",
       "      <td>liputan6.com jakarta presiden joko widodo joko...</td>\n",
       "      <td>news</td>\n",
       "      <td>bisnis</td>\n",
       "    </tr>\n",
       "    <tr>\n",
       "      <th>1851</th>\n",
       "      <td>liputan6.com banyuwangi menteri energi sumber ...</td>\n",
       "      <td>news</td>\n",
       "      <td>bisnis</td>\n",
       "    </tr>\n",
       "    <tr>\n",
       "      <th>1869</th>\n",
       "      <td>memasuki tahun kelima nestlé milo menggelar mi...</td>\n",
       "      <td>news</td>\n",
       "      <td>bisnis</td>\n",
       "    </tr>\n",
       "    <tr>\n",
       "      <th>1902</th>\n",
       "      <td>memasuki tahun kelima nestlé milo menggelar mi...</td>\n",
       "      <td>news</td>\n",
       "      <td>bisnis</td>\n",
       "    </tr>\n",
       "    <tr>\n",
       "      <th>1942</th>\n",
       "      <td>liputan6.com jakarta rencana gabungan kelompok...</td>\n",
       "      <td>news</td>\n",
       "      <td>bisnis</td>\n",
       "    </tr>\n",
       "    <tr>\n",
       "      <th>1961</th>\n",
       "      <td>wapres jusuf kalla jk mendatangi tps 03 kelura...</td>\n",
       "      <td>news</td>\n",
       "      <td>bisnis</td>\n",
       "    </tr>\n",
       "    <tr>\n",
       "      <th>2035</th>\n",
       "      <td>liputan6.com jakarta kementerian kelautan peri...</td>\n",
       "      <td>news</td>\n",
       "      <td>bisnis</td>\n",
       "    </tr>\n",
       "    <tr>\n",
       "      <th>2036</th>\n",
       "      <td>liputan6.com cilegon kementerian pertanian kem...</td>\n",
       "      <td>news</td>\n",
       "      <td>bisnis</td>\n",
       "    </tr>\n",
       "    <tr>\n",
       "      <th>2108</th>\n",
       "      <td>liputan6.com surabaya peringatan hari pers nas...</td>\n",
       "      <td>news</td>\n",
       "      <td>bisnis</td>\n",
       "    </tr>\n",
       "    <tr>\n",
       "      <th>2133</th>\n",
       "      <td>liputan6.com jakarta menteri agraria tata ruan...</td>\n",
       "      <td>news</td>\n",
       "      <td>bisnis</td>\n",
       "    </tr>\n",
       "    <tr>\n",
       "      <th>2141</th>\n",
       "      <td>liputan6.com jakarta menteri agaria tata ruang...</td>\n",
       "      <td>news</td>\n",
       "      <td>bisnis</td>\n",
       "    </tr>\n",
       "    <tr>\n",
       "      <th>2213</th>\n",
       "      <td>liputan6.com jakarta majelis ulama indonesia m...</td>\n",
       "      <td>news</td>\n",
       "      <td>bisnis</td>\n",
       "    </tr>\n",
       "    <tr>\n",
       "      <th>2352</th>\n",
       "      <td>liputan6.com jakarta keberadaan penampung air ...</td>\n",
       "      <td>news</td>\n",
       "      <td>bisnis</td>\n",
       "    </tr>\n",
       "    <tr>\n",
       "      <th>2450</th>\n",
       "      <td>liputan6.com jakarta hari kasih sayang valenti...</td>\n",
       "      <td>news</td>\n",
       "      <td>bisnis</td>\n",
       "    </tr>\n",
       "    <tr>\n",
       "      <th>2456</th>\n",
       "      <td>liputan6.com jakarta menteri perindustrian men...</td>\n",
       "      <td>news</td>\n",
       "      <td>bisnis</td>\n",
       "    </tr>\n",
       "    <tr>\n",
       "      <th>2522</th>\n",
       "      <td>liputan6.com jakarta menteri keuangan menkeu s...</td>\n",
       "      <td>news</td>\n",
       "      <td>bisnis</td>\n",
       "    </tr>\n",
       "    <tr>\n",
       "      <th>2592</th>\n",
       "      <td>liputan6.com bandung menteri kelautan perikana...</td>\n",
       "      <td>news</td>\n",
       "      <td>bisnis</td>\n",
       "    </tr>\n",
       "    <tr>\n",
       "      <th>2602</th>\n",
       "      <td>liputan6.com jakarta kementeria agraria tata r...</td>\n",
       "      <td>news</td>\n",
       "      <td>bisnis</td>\n",
       "    </tr>\n",
       "    <tr>\n",
       "      <th>2605</th>\n",
       "      <td>liputan6.com jakarta kerusakan landasan pacu r...</td>\n",
       "      <td>news</td>\n",
       "      <td>bisnis</td>\n",
       "    </tr>\n",
       "  </tbody>\n",
       "</table>\n",
       "</div>"
      ],
      "text/plain": [
       "                                                content  pred  actual\n",
       "5     liputan6.com jakarta debat capres 2019 putaran...  news  bisnis\n",
       "119   liputan6.com jakarta menteri pendayagunaan apa...  news  bisnis\n",
       "200   liputan6.com jakarta pertimbangan melaksanakan...  news  bisnis\n",
       "237   memasuki tahun kelima nestlé milo menggelar mi...  news  bisnis\n",
       "405   liputan6.com jakarta rangka meningkatkan kesad...  news  bisnis\n",
       "429   liputan6.com jakarta pemerintah menyatakan kom...  news  bisnis\n",
       "432   memasuki tahun kelima nestlé milo menggelar mi...  news  bisnis\n",
       "470   liputan6.com bandung menteri kelautan perikana...  news  bisnis\n",
       "508   liputan6.com jakarta kementerian pekerjaan umu...  news  bisnis\n",
       "561   liputan6.com jakarta relawan pengusaha muda na...  news  bisnis\n",
       "657   memasuki tahun kelima nestlé milo menggelar mi...  news  bisnis\n",
       "690   liputan6.com jakarta pemerintah memastikan men...  news  bisnis\n",
       "699   liputan6.com jakarta kunjungan anggota dpd ri ...  news  bisnis\n",
       "715   liputan6.com jakarta rencana pernikahan syahri...  news  bisnis\n",
       "770   liputan6.com jakarta kementerian bumn berkomit...  news  bisnis\n",
       "804   liputan6.com jakarta pemerintah menyatakan pen...  news  bisnis\n",
       "842   liputan6.com jakarta pebisnis muda kaesang pan...  news  bisnis\n",
       "878   presiden jokowi membuka rapat kerja nasional k...  news  bisnis\n",
       "900   liputan6.com jakarta mass rapit transit mrt ja...  news  bisnis\n",
       "937   liputan6.com jakarta calon presiden nomor urut...  news  bisnis\n",
       "948   liputan6.com jakarta calon wakil presiden cawa...  news  bisnis\n",
       "1094  liputan6.com jakarta menteri pendayagunaan apa...  news  bisnis\n",
       "1164  memasuki tahun kelima nestlé milo menggelar mi...  news  bisnis\n",
       "1213  liputan6.com jakarta pengusaha nasional eka tj...  news  bisnis\n",
       "1233  memasuki tahun kelima nestlé milo menggelar mi...  news  bisnis\n",
       "1241  liputan6.com jakarta pltu suralaya memberikan ...  news  bisnis\n",
       "1363  perajin menunjukkan hasil lukisan kaleng bekas...  news  bisnis\n",
       "1422  liputan6.com jakarta badan kepegawaian negara ...  news  bisnis\n",
       "1451  liputan6.com pamekasan menteri pertanian menta...  news  bisnis\n",
       "1574  soeharto didampingi wakilnya bj habibie membac...  news  bisnis\n",
       "1602  memasuki tahun kelima nestlé milo menggelar mi...  news  bisnis\n",
       "1661  liputan6.com jakarta seorang menteri ternyata ...  news  bisnis\n",
       "1670  liputan6.com jakarta pt wijaya karya tbk wika ...  news  bisnis\n",
       "1777  liputan6.com jakarta presiden joko widodo joko...  news  bisnis\n",
       "1851  liputan6.com banyuwangi menteri energi sumber ...  news  bisnis\n",
       "1869  memasuki tahun kelima nestlé milo menggelar mi...  news  bisnis\n",
       "1902  memasuki tahun kelima nestlé milo menggelar mi...  news  bisnis\n",
       "1942  liputan6.com jakarta rencana gabungan kelompok...  news  bisnis\n",
       "1961  wapres jusuf kalla jk mendatangi tps 03 kelura...  news  bisnis\n",
       "2035  liputan6.com jakarta kementerian kelautan peri...  news  bisnis\n",
       "2036  liputan6.com cilegon kementerian pertanian kem...  news  bisnis\n",
       "2108  liputan6.com surabaya peringatan hari pers nas...  news  bisnis\n",
       "2133  liputan6.com jakarta menteri agraria tata ruan...  news  bisnis\n",
       "2141  liputan6.com jakarta menteri agaria tata ruang...  news  bisnis\n",
       "2213  liputan6.com jakarta majelis ulama indonesia m...  news  bisnis\n",
       "2352  liputan6.com jakarta keberadaan penampung air ...  news  bisnis\n",
       "2450  liputan6.com jakarta hari kasih sayang valenti...  news  bisnis\n",
       "2456  liputan6.com jakarta menteri perindustrian men...  news  bisnis\n",
       "2522  liputan6.com jakarta menteri keuangan menkeu s...  news  bisnis\n",
       "2592  liputan6.com bandung menteri kelautan perikana...  news  bisnis\n",
       "2602  liputan6.com jakarta kementeria agraria tata r...  news  bisnis\n",
       "2605  liputan6.com jakarta kerusakan landasan pacu r...  news  bisnis"
      ]
     },
     "execution_count": 42,
     "metadata": {},
     "output_type": "execute_result"
    }
   ],
   "source": [
    "df_prec = df_analisis[(df_analisis.pred == 'news') & (df_analisis.actual == 'bisnis')]\n",
    "df_prec"
   ]
  },
  {
   "cell_type": "markdown",
   "id": "rising-corps",
   "metadata": {},
   "source": [
    "Dari hasil analisis ternyata banyak data duplikat dan salah label."
   ]
  },
  {
   "cell_type": "code",
   "execution_count": null,
   "id": "progressive-waters",
   "metadata": {},
   "outputs": [],
   "source": []
  }
 ],
 "metadata": {
  "kernelspec": {
   "display_name": "Python [conda env:jcop]",
   "language": "python",
   "name": "conda-env-jcop-py"
  },
  "language_info": {
   "codemirror_mode": {
    "name": "ipython",
    "version": 3
   },
   "file_extension": ".py",
   "mimetype": "text/x-python",
   "name": "python",
   "nbconvert_exporter": "python",
   "pygments_lexer": "ipython3",
   "version": "3.7.6"
  }
 },
 "nbformat": 4,
 "nbformat_minor": 5
}
