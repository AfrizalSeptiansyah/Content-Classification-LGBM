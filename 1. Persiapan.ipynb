{
 "cells": [
  {
   "cell_type": "markdown",
   "id": "worldwide-penalty",
   "metadata": {},
   "source": [
    "# Import Library"
   ]
  },
  {
   "cell_type": "code",
   "execution_count": 1,
   "id": "aquatic-tracy",
   "metadata": {},
   "outputs": [],
   "source": [
    "import numpy as np\n",
    "import pandas as pd\n",
    "import matplotlib.pyplot as plt\n",
    "import seaborn as sns\n",
    "sns.set()\n",
    "from warnings import filterwarnings\n",
    "filterwarnings('ignore')\n",
    "\n",
    "from sklearn.model_selection import train_test_split"
   ]
  },
  {
   "cell_type": "markdown",
   "id": "pursuant-fever",
   "metadata": {},
   "source": [
    "# Load Data"
   ]
  },
  {
   "cell_type": "code",
   "execution_count": 2,
   "id": "alone-resolution",
   "metadata": {},
   "outputs": [
    {
     "data": {
      "text/html": [
       "<div>\n",
       "<style scoped>\n",
       "    .dataframe tbody tr th:only-of-type {\n",
       "        vertical-align: middle;\n",
       "    }\n",
       "\n",
       "    .dataframe tbody tr th {\n",
       "        vertical-align: top;\n",
       "    }\n",
       "\n",
       "    .dataframe thead th {\n",
       "        text-align: right;\n",
       "    }\n",
       "</style>\n",
       "<table border=\"1\" class=\"dataframe\">\n",
       "  <thead>\n",
       "    <tr style=\"text-align: right;\">\n",
       "      <th></th>\n",
       "      <th>content</th>\n",
       "      <th>label</th>\n",
       "    </tr>\n",
       "  </thead>\n",
       "  <tbody>\n",
       "    <tr>\n",
       "      <th>0</th>\n",
       "      <td>Liputan6.com, London - Lee Dixon khawatir Arse...</td>\n",
       "      <td>bola</td>\n",
       "    </tr>\n",
       "    <tr>\n",
       "      <th>1</th>\n",
       "      <td>Liputan6.com, Jakarta - Kasus dugaan penganiay...</td>\n",
       "      <td>news</td>\n",
       "    </tr>\n",
       "    <tr>\n",
       "      <th>2</th>\n",
       "      <td>Liputan6.com, Jakarta Menanggapi aksi eks peke...</td>\n",
       "      <td>bisnis</td>\n",
       "    </tr>\n",
       "    <tr>\n",
       "      <th>3</th>\n",
       "      <td>Liputan6.com, Medan - Sebanyak 81 kendaraan 4x...</td>\n",
       "      <td>bola</td>\n",
       "    </tr>\n",
       "    <tr>\n",
       "      <th>4</th>\n",
       "      <td>Liputan6.com, Jakarta Indonesia akan melawan T...</td>\n",
       "      <td>bola</td>\n",
       "    </tr>\n",
       "  </tbody>\n",
       "</table>\n",
       "</div>"
      ],
      "text/plain": [
       "                                             content   label\n",
       "0  Liputan6.com, London - Lee Dixon khawatir Arse...    bola\n",
       "1  Liputan6.com, Jakarta - Kasus dugaan penganiay...    news\n",
       "2  Liputan6.com, Jakarta Menanggapi aksi eks peke...  bisnis\n",
       "3  Liputan6.com, Medan - Sebanyak 81 kendaraan 4x...    bola\n",
       "4  Liputan6.com, Jakarta Indonesia akan melawan T...    bola"
      ]
     },
     "execution_count": 2,
     "metadata": {},
     "output_type": "execute_result"
    }
   ],
   "source": [
    "df = pd.read_csv(\"data/train.csv\")\n",
    "df.head()"
   ]
  },
  {
   "cell_type": "code",
   "execution_count": 3,
   "id": "spiritual-jenny",
   "metadata": {},
   "outputs": [
    {
     "data": {
      "text/plain": [
       "(6127, 2)"
      ]
     },
     "execution_count": 3,
     "metadata": {},
     "output_type": "execute_result"
    }
   ],
   "source": [
    "df.shape"
   ]
  },
  {
   "cell_type": "code",
   "execution_count": 4,
   "id": "yellow-lottery",
   "metadata": {},
   "outputs": [
    {
     "data": {
      "text/plain": [
       "content    object\n",
       "label      object\n",
       "dtype: object"
      ]
     },
     "execution_count": 4,
     "metadata": {},
     "output_type": "execute_result"
    }
   ],
   "source": [
    "df.dtypes"
   ]
  },
  {
   "cell_type": "code",
   "execution_count": 5,
   "id": "increased-subcommittee",
   "metadata": {},
   "outputs": [
    {
     "data": {
      "text/plain": [
       "content    0\n",
       "label      0\n",
       "dtype: int64"
      ]
     },
     "execution_count": 5,
     "metadata": {},
     "output_type": "execute_result"
    }
   ],
   "source": [
    "df.isna().sum()"
   ]
  },
  {
   "cell_type": "code",
   "execution_count": 6,
   "id": "solar-jacob",
   "metadata": {},
   "outputs": [
    {
     "data": {
      "image/png": "[encoded data removed]",
      "text/plain": [
       "<Figure size 432x288 with 1 Axes>"
      ]
     },
     "metadata": {
      "needs_background": "light"
     },
     "output_type": "display_data"
    }
   ],
   "source": [
    "sns.countplot(df.label);"
   ]
  },
  {
   "cell_type": "code",
   "execution_count": 7,
   "id": "dominant-abuse",
   "metadata": {},
   "outputs": [
    {
     "data": {
      "text/plain": [
       "'Liputan6.com, London - Lee Dixon khawatir Arsenal tak bisa merekrut Denis Suarez secara permanen musim panas nanti. Pasalnya sejauh ini, Suarez hanya menjadi cadangan bagi The Gunners.\\n\\nSuarez dipinjam Arsenal dari Barcelona, Januari lalu. The Gunners juga bisa membelinya pada akhir musim nanti jika permainannya memuaskan.\\n\\nNamun sejauh ini Suarez tak menjadi pilihan utama di Arsenal. Manajer Unai Emery baru memberinya kesempatan bermain selama 85 menit.\\n\\n\"Emery mungkin tahu kualitas Suarez. Dia tahu Suarez pemain yang dibutuhkannya,\" kata Dixon seperti dilansir Evening Standard.\\n\\n\"Namun dari sudut pandang Suarez, dia pasti berpikir untuk apa pindah kalau tidak bermain. Jadi mungkin saja dia akan menolak Arsenal,\" katanya menambahkan.'"
      ]
     },
     "execution_count": 7,
     "metadata": {},
     "output_type": "execute_result"
    }
   ],
   "source": [
    "df.content[0]"
   ]
  },
  {
   "cell_type": "code",
   "execution_count": 8,
   "id": "improved-motorcycle",
   "metadata": {},
   "outputs": [
    {
     "data": {
      "text/plain": [
       "'Liputan6.com, Jakarta - Dampak keluarnya Inggris dari Uni Eropa atau Brexit berdampak cukup besar bagi industri otomotif. Salah satunya, dengan ditutupnya pabrik Jaguar Land Rover (JLR) di Negeri Britania, pada April 2019. Lalu, dengan penutupan tempat perakitan tersebut, apa dampaknya bagi penjualan di Indonesia?\\n\\nDijelaskan Jentri Izhar, Brand Director JLR Indonesia, untuk di pasar Indonesia sendiri memang belum ada pengaruhnya. Namun, jika diprediksi, penutupan pabrik JLR ini bakal mempengaruhi harga jual kendaraannya di pasar otomotif nasional.\\n\\n\"Pengaruhnya nanti lebih ke produksi, karena supply chain-nya nanti bagaimana tergantung dari sana,\" jelas Izhar saat berbincang dengan wartawan beberapa waktu lalu.\\n\\nSementara itu, untuk waktu pengirimannya juga tidak akan berpengaruh, karena tidak ada hubungannya dengan penutupan pabrik. \"Pengiriman itu cukup fleksibel, jadi paling pengaruhnya di harga (lebih mahal),\" tegasnya.\\n\\nBerbicara soal strategi JLR dengan penutupan pabrik ini, memang belum dibicarakan lebih lanjut. Pasalnya, memang hingga saat ini belum ada pengaruhnya, dan harapannya jika ada dampaknya untuk di Indonesia sendiri, tidak terlalu besar dan mempengaruhi bisnisnya di Tanah Air.\\n\\n\"Mungkin teman-teman sudah dengar pengumuman JLR akhir-akhir ini. Kami pun sedang menghadapi isu sendiri di dalam Jaguar Land Rover, jadi isu Brexit ini menjadi tantangan kami berikutnya,\" pungkas Izhar.'"
      ]
     },
     "execution_count": 8,
     "metadata": {},
     "output_type": "execute_result"
    }
   ],
   "source": [
    "df.content[122]"
   ]
  },
  {
   "cell_type": "markdown",
   "id": "running-period",
   "metadata": {},
   "source": [
    "# Cleaning"
   ]
  },
  {
   "cell_type": "code",
   "execution_count": 9,
   "id": "colored-preservation",
   "metadata": {},
   "outputs": [],
   "source": [
    "from nltk.tokenize import word_tokenize\n",
    "from nltk.corpus import stopwords\n",
    "import re\n",
    "from string import punctuation\n",
    "from sklearn.feature_extraction.text import TfidfVectorizer, CountVectorizer"
   ]
  },
  {
   "cell_type": "code",
   "execution_count": 10,
   "id": "indoor-uruguay",
   "metadata": {},
   "outputs": [],
   "source": [
    "def cleansing(text):\n",
    "    text = text.lower()\n",
    "    word_list = word_tokenize(text)\n",
    "    word_list = [word for word in word_list if len(word) > 1 and word.isalpha()]\n",
    "    word_list = [word for word in word_list if word not in punctuation]\n",
    "    text = ' '.join(word_list)\n",
    "    return text"
   ]
  },
  {
   "cell_type": "code",
   "execution_count": 11,
   "id": "charitable-large",
   "metadata": {},
   "outputs": [],
   "source": [
    "df['content'] = df.content.apply(cleansing)"
   ]
  },
  {
   "cell_type": "code",
   "execution_count": 12,
   "id": "verbal-defendant",
   "metadata": {},
   "outputs": [
    {
     "data": {
      "text/plain": [
       "'jakarta barcelona punya pengalaman buruk saat membeli pemain bertahan belia dari brasil banyak yang gagal di nou camp dan malah membuat rugi barcelona ada dua pemain belakang berbakat brasil yang pernah dibeli mahal oleh barcelona yakni douglas dan henrique keduanya gagal total di barcelona sehingga kemudian dijual murah setelah sempat dipinjamkan ke beberapa klub kenyataan pahit tersebut tak membuat barcelona kapok berburu bek muda brasil blaugrana dikabarkan selangkah lagi mendapatkan bek berbakat palmeiras vitao penggawa timnas brasil itu sudah diamati pencari bakat barcelona sejak beberapa pekan terakhir negosiasi nampaknya berjalan cukup baik marca melaporkan vitao dan agennya sudah terlihat berada di barcelona untuk menyelesaikan kepindahannya pemuda tahun itu baru akan bergabung ke nou camp musim panas nanti'"
      ]
     },
     "execution_count": 12,
     "metadata": {},
     "output_type": "execute_result"
    }
   ],
   "source": [
    "df.content[10]"
   ]
  },
  {
   "cell_type": "code",
   "execution_count": 13,
   "id": "failing-property",
   "metadata": {},
   "outputs": [
    {
     "data": {
      "text/plain": [
       "'jakarta dampak keluarnya inggris dari uni eropa atau brexit berdampak cukup besar bagi industri otomotif salah satunya dengan ditutupnya pabrik jaguar land rover jlr di negeri britania pada april lalu dengan penutupan tempat perakitan tersebut apa dampaknya bagi penjualan di indonesia dijelaskan jentri izhar brand director jlr indonesia untuk di pasar indonesia sendiri memang belum ada pengaruhnya namun jika diprediksi penutupan pabrik jlr ini bakal mempengaruhi harga jual kendaraannya di pasar otomotif nasional pengaruhnya nanti lebih ke produksi karena supply nanti bagaimana tergantung dari sana jelas izhar saat berbincang dengan wartawan beberapa waktu lalu sementara itu untuk waktu pengirimannya juga tidak akan berpengaruh karena tidak ada hubungannya dengan penutupan pabrik pengiriman itu cukup fleksibel jadi paling pengaruhnya di harga lebih mahal tegasnya berbicara soal strategi jlr dengan penutupan pabrik ini memang belum dibicarakan lebih lanjut pasalnya memang hingga saat ini belum ada pengaruhnya dan harapannya jika ada dampaknya untuk di indonesia sendiri tidak terlalu besar dan mempengaruhi bisnisnya di tanah air mungkin sudah dengar pengumuman jlr ini kami pun sedang menghadapi isu sendiri di dalam jaguar land rover jadi isu brexit ini menjadi tantangan kami berikutnya pungkas izhar'"
      ]
     },
     "execution_count": 13,
     "metadata": {},
     "output_type": "execute_result"
    }
   ],
   "source": [
    "df.content[122]"
   ]
  },
  {
   "cell_type": "code",
   "execution_count": 14,
   "id": "published-shade",
   "metadata": {},
   "outputs": [
    {
     "data": {
      "text/html": [
       "<div>\n",
       "<style scoped>\n",
       "    .dataframe tbody tr th:only-of-type {\n",
       "        vertical-align: middle;\n",
       "    }\n",
       "\n",
       "    .dataframe tbody tr th {\n",
       "        vertical-align: top;\n",
       "    }\n",
       "\n",
       "    .dataframe thead th {\n",
       "        text-align: right;\n",
       "    }\n",
       "</style>\n",
       "<table border=\"1\" class=\"dataframe\">\n",
       "  <thead>\n",
       "    <tr style=\"text-align: right;\">\n",
       "      <th></th>\n",
       "      <th>content</th>\n",
       "      <th>label</th>\n",
       "    </tr>\n",
       "  </thead>\n",
       "  <tbody>\n",
       "    <tr>\n",
       "      <th>0</th>\n",
       "      <td>london lee dixon khawatir arsenal tak bisa mer...</td>\n",
       "      <td>bola</td>\n",
       "    </tr>\n",
       "    <tr>\n",
       "      <th>1</th>\n",
       "      <td>jakarta kasus dugaan penganiayaan terhadap dua...</td>\n",
       "      <td>news</td>\n",
       "    </tr>\n",
       "    <tr>\n",
       "      <th>2</th>\n",
       "      <td>jakarta menanggapi aksi eks pekerja pt freepor...</td>\n",
       "      <td>bisnis</td>\n",
       "    </tr>\n",
       "    <tr>\n",
       "      <th>3</th>\n",
       "      <td>medan sebanyak kendaraan dan motor telah tiba ...</td>\n",
       "      <td>bola</td>\n",
       "    </tr>\n",
       "    <tr>\n",
       "      <th>4</th>\n",
       "      <td>jakarta indonesia akan melawan thailand di fin...</td>\n",
       "      <td>bola</td>\n",
       "    </tr>\n",
       "  </tbody>\n",
       "</table>\n",
       "</div>"
      ],
      "text/plain": [
       "                                             content   label\n",
       "0  london lee dixon khawatir arsenal tak bisa mer...    bola\n",
       "1  jakarta kasus dugaan penganiayaan terhadap dua...    news\n",
       "2  jakarta menanggapi aksi eks pekerja pt freepor...  bisnis\n",
       "3  medan sebanyak kendaraan dan motor telah tiba ...    bola\n",
       "4  jakarta indonesia akan melawan thailand di fin...    bola"
      ]
     },
     "execution_count": 14,
     "metadata": {},
     "output_type": "execute_result"
    }
   ],
   "source": [
    "df.head()"
   ]
  },
  {
   "cell_type": "markdown",
   "id": "suffering-greenhouse",
   "metadata": {},
   "source": [
    "# Dataset Splitting"
   ]
  },
  {
   "cell_type": "code",
   "execution_count": 15,
   "id": "cordless-mistake",
   "metadata": {},
   "outputs": [],
   "source": [
    "X_train = df.content\n",
    "y_train = df.label"
   ]
  },
  {
   "cell_type": "markdown",
   "id": "endless-singles",
   "metadata": {},
   "source": [
    "# Create StopWords"
   ]
  },
  {
   "cell_type": "code",
   "execution_count": 16,
   "id": "breathing-anxiety",
   "metadata": {},
   "outputs": [],
   "source": [
    "bow = CountVectorizer()"
   ]
  },
  {
   "cell_type": "code",
   "execution_count": 17,
   "id": "adjusted-declaration",
   "metadata": {},
   "outputs": [],
   "source": [
    "bow_matrix = bow.fit_transform(X_train)"
   ]
  },
  {
   "cell_type": "code",
   "execution_count": 18,
   "id": "basic-ferry",
   "metadata": {},
   "outputs": [
    {
     "data": {
      "text/html": [
       "<div>\n",
       "<style scoped>\n",
       "    .dataframe tbody tr th:only-of-type {\n",
       "        vertical-align: middle;\n",
       "    }\n",
       "\n",
       "    .dataframe tbody tr th {\n",
       "        vertical-align: top;\n",
       "    }\n",
       "\n",
       "    .dataframe thead th {\n",
       "        text-align: right;\n",
       "    }\n",
       "</style>\n",
       "<table border=\"1\" class=\"dataframe\">\n",
       "  <thead>\n",
       "    <tr style=\"text-align: right;\">\n",
       "      <th></th>\n",
       "      <th>term</th>\n",
       "      <th>frekuensi</th>\n",
       "    </tr>\n",
       "  </thead>\n",
       "  <tbody>\n",
       "    <tr>\n",
       "      <th>0</th>\n",
       "      <td>aa</td>\n",
       "      <td>19</td>\n",
       "    </tr>\n",
       "    <tr>\n",
       "      <th>1</th>\n",
       "      <td>aaa</td>\n",
       "      <td>1</td>\n",
       "    </tr>\n",
       "    <tr>\n",
       "      <th>2</th>\n",
       "      <td>aaib</td>\n",
       "      <td>16</td>\n",
       "    </tr>\n",
       "    <tr>\n",
       "      <th>3</th>\n",
       "      <td>aaid</td>\n",
       "      <td>1</td>\n",
       "    </tr>\n",
       "    <tr>\n",
       "      <th>4</th>\n",
       "      <td>aakibat</td>\n",
       "      <td>1</td>\n",
       "    </tr>\n",
       "  </tbody>\n",
       "</table>\n",
       "</div>"
      ],
      "text/plain": [
       "      term  frekuensi\n",
       "0       aa         19\n",
       "1      aaa          1\n",
       "2     aaib         16\n",
       "3     aaid          1\n",
       "4  aakibat          1"
      ]
     },
     "execution_count": 18,
     "metadata": {},
     "output_type": "execute_result"
    }
   ],
   "source": [
    "term = bow.get_feature_names()\n",
    "\n",
    "sums = bow_matrix.sum(axis=0)\n",
    "\n",
    "data = []\n",
    "\n",
    "for col, term in enumerate(term):\n",
    "    data.append((term, sums[0, col]))\n",
    "\n",
    "ranking = pd.DataFrame(data, columns=['term', 'frekuensi'])\n",
    "ranking.head()"
   ]
  },
  {
   "cell_type": "code",
   "execution_count": 19,
   "id": "plastic-monster",
   "metadata": {},
   "outputs": [
    {
     "data": {
      "text/html": [
       "<div>\n",
       "<style scoped>\n",
       "    .dataframe tbody tr th:only-of-type {\n",
       "        vertical-align: middle;\n",
       "    }\n",
       "\n",
       "    .dataframe tbody tr th {\n",
       "        vertical-align: top;\n",
       "    }\n",
       "\n",
       "    .dataframe thead th {\n",
       "        text-align: right;\n",
       "    }\n",
       "</style>\n",
       "<table border=\"1\" class=\"dataframe\">\n",
       "  <thead>\n",
       "    <tr style=\"text-align: right;\">\n",
       "      <th></th>\n",
       "      <th>term</th>\n",
       "      <th>frekuensi</th>\n",
       "    </tr>\n",
       "  </thead>\n",
       "  <tbody>\n",
       "    <tr>\n",
       "      <th>34864</th>\n",
       "      <td>yang</td>\n",
       "      <td>22988</td>\n",
       "    </tr>\n",
       "    <tr>\n",
       "      <th>6248</th>\n",
       "      <td>di</td>\n",
       "      <td>22859</td>\n",
       "    </tr>\n",
       "    <tr>\n",
       "      <th>5763</th>\n",
       "      <td>dan</td>\n",
       "      <td>18465</td>\n",
       "    </tr>\n",
       "    <tr>\n",
       "      <th>12205</th>\n",
       "      <td>ini</td>\n",
       "      <td>12634</td>\n",
       "    </tr>\n",
       "    <tr>\n",
       "      <th>6094</th>\n",
       "      <td>dengan</td>\n",
       "      <td>10181</td>\n",
       "    </tr>\n",
       "    <tr>\n",
       "      <th>...</th>\n",
       "      <td>...</td>\n",
       "      <td>...</td>\n",
       "    </tr>\n",
       "    <tr>\n",
       "      <th>19256</th>\n",
       "      <td>menerima</td>\n",
       "      <td>336</td>\n",
       "    </tr>\n",
       "    <tr>\n",
       "      <th>13537</th>\n",
       "      <td>kan</td>\n",
       "      <td>336</td>\n",
       "    </tr>\n",
       "    <tr>\n",
       "      <th>33378</th>\n",
       "      <td>tuan</td>\n",
       "      <td>335</td>\n",
       "    </tr>\n",
       "    <tr>\n",
       "      <th>2106</th>\n",
       "      <td>barang</td>\n",
       "      <td>334</td>\n",
       "    </tr>\n",
       "    <tr>\n",
       "      <th>13932</th>\n",
       "      <td>kebijakan</td>\n",
       "      <td>333</td>\n",
       "    </tr>\n",
       "  </tbody>\n",
       "</table>\n",
       "<p>500 rows × 2 columns</p>\n",
       "</div>"
      ],
      "text/plain": [
       "            term  frekuensi\n",
       "34864       yang      22988\n",
       "6248          di      22859\n",
       "5763         dan      18465\n",
       "12205        ini      12634\n",
       "6094      dengan      10181\n",
       "...          ...        ...\n",
       "19256   menerima        336\n",
       "13537        kan        336\n",
       "33378       tuan        335\n",
       "2106      barang        334\n",
       "13932  kebijakan        333\n",
       "\n",
       "[500 rows x 2 columns]"
      ]
     },
     "execution_count": 19,
     "metadata": {},
     "output_type": "execute_result"
    }
   ],
   "source": [
    "stopwords = ranking.sort_values('frekuensi', ascending=False).head(500)\n",
    "stopwords"
   ]
  },
  {
   "cell_type": "code",
   "execution_count": 20,
   "id": "weighted-binary",
   "metadata": {},
   "outputs": [],
   "source": [
    "stopwords.to_excel('data/stopwords.xlsx', index=False)"
   ]
  },
  {
   "cell_type": "code",
   "execution_count": null,
   "id": "2a350905",
   "metadata": {},
   "outputs": [],
   "source": []
  }
 ],
 "metadata": {
  "kernelspec": {
   "display_name": "Python [conda env:jcop]",
   "language": "python",
   "name": "conda-env-jcop-py"
  },
  "language_info": {
   "codemirror_mode": {
    "name": "ipython",
    "version": 3
   },
   "file_extension": ".py",
   "mimetype": "text/x-python",
   "name": "python",
   "nbconvert_exporter": "python",
   "pygments_lexer": "ipython3",
   "version": "3.7.6"
  }
 },
 "nbformat": 4,
 "nbformat_minor": 5
}
